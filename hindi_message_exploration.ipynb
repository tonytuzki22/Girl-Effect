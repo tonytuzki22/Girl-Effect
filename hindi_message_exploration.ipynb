{
 "cells": [
  {
   "cell_type": "markdown",
   "metadata": {
    "id": "ztSEDB5odBfr"
   },
   "source": [
    "# Exploring Translations of Hindi Messages\n",
    "\n",
    "In this notebook I will explore translations of Hindi chatbot messages and how to convert them into English as a proof of concept. "
   ]
  },
  {
   "cell_type": "code",
   "execution_count": null,
   "metadata": {
    "id": "Z2hmdKmNZdLR"
   },
   "outputs": [],
   "source": [
    "# import statements\n",
    "import pandas as pd\n",
    "import numpy as np\n",
    "import os\n",
    "import re "
   ]
  },
  {
   "cell_type": "code",
   "execution_count": null,
   "metadata": {
    "colab": {
     "base_uri": "https://localhost:8080/"
    },
    "executionInfo": {
     "elapsed": 2164,
     "status": "ok",
     "timestamp": 1606983933413,
     "user": {
      "displayName": "Neha Hudait",
      "photoUrl": "https://lh3.googleusercontent.com/a-/AOh14GiIKoKLUeQlnxxPDix_z2dV5i0n4W4cDcYvJWmzDw=s64",
      "userId": "04178890623871470592"
     },
     "user_tz": 300
    },
    "id": "RCk6cHXVZk_G",
    "outputId": "bc2d86ba-c6b5-4ce8-c65c-24deaf133ab5"
   },
   "outputs": [],
   "source": [
    "# setting up google colab\n",
    "from google.colab import drive\n",
    "drive.mount('/content/drive', force_remount=True)\n",
    "%cd \"drive/My Drive/girl_effect\""
   ]
  },
  {
   "cell_type": "code",
   "execution_count": null,
   "metadata": {
    "colab": {
     "base_uri": "https://localhost:8080/"
    },
    "executionInfo": {
     "elapsed": 5041,
     "status": "ok",
     "timestamp": 1606983936298,
     "user": {
      "displayName": "Neha Hudait",
      "photoUrl": "https://lh3.googleusercontent.com/a-/AOh14GiIKoKLUeQlnxxPDix_z2dV5i0n4W4cDcYvJWmzDw=s64",
      "userId": "04178890623871470592"
     },
     "user_tz": 300
    },
    "id": "JgIwPNCNhOxp",
    "outputId": "578e85a9-2c4f-4300-eeb5-b7c554c8c667"
   },
   "outputs": [],
   "source": [
    "# importing google translate api \n",
    "! pip install google_trans_new"
   ]
  },
  {
   "cell_type": "code",
   "execution_count": null,
   "metadata": {
    "id": "y1WI-Hyjl6jT"
   },
   "outputs": [],
   "source": [
    "# creating a new translator \n",
    "from google_trans_new import google_translator  "
   ]
  },
  {
   "cell_type": "markdown",
   "metadata": {
    "id": "_ott0RbitnaQ"
   },
   "source": [
    "In a separate notebook, I separated the data into messages sent through Chhaa Jaa, India's flagship chatbot, and Big Sis, used in primarily English speaking countries. For this notebook, I am working with the Hindi text specifically. "
   ]
  },
  {
   "cell_type": "code",
   "execution_count": null,
   "metadata": {
    "colab": {
     "base_uri": "https://localhost:8080/",
     "height": 419
    },
    "executionInfo": {
     "elapsed": 5002,
     "status": "ok",
     "timestamp": 1606983936334,
     "user": {
      "displayName": "Neha Hudait",
      "photoUrl": "https://lh3.googleusercontent.com/a-/AOh14GiIKoKLUeQlnxxPDix_z2dV5i0n4W4cDcYvJWmzDw=s64",
      "userId": "04178890623871470592"
     },
     "user_tz": 300
    },
    "id": "AY3zOoNNmElZ",
    "outputId": "64542aff-78fc-4e14-97ec-a3ea6eaee86e"
   },
   "outputs": [],
   "source": [
    "# chatbot data from chhaa jaa only \n",
    "frame = pd.read_csv(\"chatbots_data_hindi.csv\")\n",
    "frame"
   ]
  },
  {
   "cell_type": "markdown",
   "metadata": {
    "id": "2vcIFisJt6Ig"
   },
   "source": [
    "## Google Translate API\n",
    "\n",
    "Google Translate's API is currently in the works of delivering powerful translation results. In the following code blocks I explore this API and its results on the dataset.  "
   ]
  },
  {
   "cell_type": "code",
   "execution_count": null,
   "metadata": {
    "id": "wE78iMB7mYd3"
   },
   "outputs": [],
   "source": [
    "# creating string\n",
    "frame[\"Message\"] = frame[\"Message\"].astype(str)\n",
    "# creating translator instance\n",
    "translator = google_translator()  "
   ]
  },
  {
   "cell_type": "code",
   "execution_count": null,
   "metadata": {
    "id": "Ub71L2YHp5tM"
   },
   "outputs": [],
   "source": [
    "# only focusing on first 500 entries because kernel timed out\n",
    "frame = frame.head(500)"
   ]
  },
  {
   "cell_type": "code",
   "execution_count": null,
   "metadata": {
    "colab": {
     "base_uri": "https://localhost:8080/"
    },
    "executionInfo": {
     "elapsed": 35402,
     "status": "ok",
     "timestamp": 1606983966854,
     "user": {
      "displayName": "Neha Hudait",
      "photoUrl": "https://lh3.googleusercontent.com/a-/AOh14GiIKoKLUeQlnxxPDix_z2dV5i0n4W4cDcYvJWmzDw=s64",
      "userId": "04178890623871470592"
     },
     "user_tz": 300
    },
    "id": "fTF4GPibnB-U",
    "outputId": "5e708a5b-97cb-45f8-ac9f-e855dfeb12db"
   },
   "outputs": [],
   "source": [
    "# detect the language\n",
    "def language_detect(message): \n",
    "  val = translator.detect(message)\n",
    "  return val[1]\n",
    "\n",
    "frame[\"language\"] = frame[\"Message\"].apply(language_detect)"
   ]
  },
  {
   "cell_type": "code",
   "execution_count": null,
   "metadata": {
    "colab": {
     "base_uri": "https://localhost:8080/",
     "height": 419
    },
    "executionInfo": {
     "elapsed": 35372,
     "status": "ok",
     "timestamp": 1606983966855,
     "user": {
      "displayName": "Neha Hudait",
      "photoUrl": "https://lh3.googleusercontent.com/a-/AOh14GiIKoKLUeQlnxxPDix_z2dV5i0n4W4cDcYvJWmzDw=s64",
      "userId": "04178890623871470592"
     },
     "user_tz": 300
    },
    "id": "WQSR_rRDnmZT",
    "outputId": "f373ab9e-f150-4a68-b7f8-a17a95102cfe"
   },
   "outputs": [],
   "source": [
    "frame"
   ]
  },
  {
   "cell_type": "code",
   "execution_count": null,
   "metadata": {
    "colab": {
     "base_uri": "https://localhost:8080/"
    },
    "executionInfo": {
     "elapsed": 35340,
     "status": "ok",
     "timestamp": 1606983966856,
     "user": {
      "displayName": "Neha Hudait",
      "photoUrl": "https://lh3.googleusercontent.com/a-/AOh14GiIKoKLUeQlnxxPDix_z2dV5i0n4W4cDcYvJWmzDw=s64",
      "userId": "04178890623871470592"
     },
     "user_tz": 300
    },
    "id": "m0O3_AL7prtI",
    "outputId": "ce6eef0e-564a-441d-e6e3-520743266f1e"
   },
   "outputs": [],
   "source": [
    "# checking how many rows were detected as hindi \n",
    "frame[\"language\"].value_counts()"
   ]
  },
  {
   "cell_type": "markdown",
   "metadata": {
    "id": "L7R9dOZGuTBh"
   },
   "source": [
    "I noticed that I was getting a lot of entries that were detected as \"chinese (simplified)\". This is because most of the messages had nan values or had emojis that didn't translate well to CSV format. Earlier in the preprocesisng, I replaced all these characters with dummy characters such as \"$#@\". From here, I drop those particular rows. "
   ]
  },
  {
   "cell_type": "code",
   "execution_count": null,
   "metadata": {
    "id": "lsyEr0jpqFbA"
   },
   "outputs": [],
   "source": [
    "chinese_frame = frame[frame[\"language\"] == \"chinese (simplified)\"]"
   ]
  },
  {
   "cell_type": "code",
   "execution_count": null,
   "metadata": {
    "colab": {
     "base_uri": "https://localhost:8080/",
     "height": 419
    },
    "executionInfo": {
     "elapsed": 35256,
     "status": "ok",
     "timestamp": 1606983966857,
     "user": {
      "displayName": "Neha Hudait",
      "photoUrl": "https://lh3.googleusercontent.com/a-/AOh14GiIKoKLUeQlnxxPDix_z2dV5i0n4W4cDcYvJWmzDw=s64",
      "userId": "04178890623871470592"
     },
     "user_tz": 300
    },
    "id": "YbMeEsgjq1UM",
    "outputId": "0ab16ed2-fddf-423a-b7cf-21f13fe1a8cd"
   },
   "outputs": [],
   "source": [
    "chinese_frame"
   ]
  },
  {
   "cell_type": "code",
   "execution_count": null,
   "metadata": {
    "colab": {
     "base_uri": "https://localhost:8080/",
     "height": 419
    },
    "executionInfo": {
     "elapsed": 35213,
     "status": "ok",
     "timestamp": 1606983966857,
     "user": {
      "displayName": "Neha Hudait",
      "photoUrl": "https://lh3.googleusercontent.com/a-/AOh14GiIKoKLUeQlnxxPDix_z2dV5i0n4W4cDcYvJWmzDw=s64",
      "userId": "04178890623871470592"
     },
     "user_tz": 300
    },
    "id": "PTN4c4CQq2uV",
    "outputId": "77aa50a5-3539-4cdc-f1f9-fb55b29b3521"
   },
   "outputs": [],
   "source": [
    "frame = frame[frame[\"language\"]!=\"chinese (simplified)\"]\n",
    "frame"
   ]
  },
  {
   "cell_type": "markdown",
   "metadata": {
    "id": "qOcBEQG7ukRG"
   },
   "source": [
    "After finding all of the detected languages, then I convert the messages from hindi to english, and spot check the entries to sanity check. It helps that I speak Hindi haha"
   ]
  },
  {
   "cell_type": "code",
   "execution_count": null,
   "metadata": {
    "id": "9cNSOqpSrEBt"
   },
   "outputs": [],
   "source": [
    "# translate to english \n",
    "def to_english(message):\n",
    "  translated_message = translator.translate(message, lang_src='hi', lang_tgt='en')\n",
    "  return translated_message"
   ]
  },
  {
   "cell_type": "code",
   "execution_count": null,
   "metadata": {
    "colab": {
     "base_uri": "https://localhost:8080/"
    },
    "executionInfo": {
     "elapsed": 64897,
     "status": "ok",
     "timestamp": 1606983996567,
     "user": {
      "displayName": "Neha Hudait",
      "photoUrl": "https://lh3.googleusercontent.com/a-/AOh14GiIKoKLUeQlnxxPDix_z2dV5i0n4W4cDcYvJWmzDw=s64",
      "userId": "04178890623871470592"
     },
     "user_tz": 300
    },
    "id": "UW61mGmlsUVz",
    "outputId": "cf2196e2-b54c-45d2-b1e5-0d3252b5b291"
   },
   "outputs": [],
   "source": [
    "frame[\"english_version\"] = frame[\"Message\"].apply(to_english)"
   ]
  },
  {
   "cell_type": "code",
   "execution_count": null,
   "metadata": {
    "colab": {
     "base_uri": "https://localhost:8080/",
     "height": 419
    },
    "executionInfo": {
     "elapsed": 64859,
     "status": "ok",
     "timestamp": 1606983996571,
     "user": {
      "displayName": "Neha Hudait",
      "photoUrl": "https://lh3.googleusercontent.com/a-/AOh14GiIKoKLUeQlnxxPDix_z2dV5i0n4W4cDcYvJWmzDw=s64",
      "userId": "04178890623871470592"
     },
     "user_tz": 300
    },
    "id": "l4U5zyVoseXu",
    "outputId": "d4af3b77-a0f5-4710-ea7f-924b08a7a027"
   },
   "outputs": [],
   "source": [
    "frame"
   ]
  },
  {
   "cell_type": "markdown",
   "metadata": {
    "id": "68c2eiKduyMo"
   },
   "source": [
    "From here it looks like most of the messages are starting to make more sense. Now, I can take the work I did in an alternative notebook to spell check and correct the english messages to gain further understanding of what the words mean. "
   ]
  }
 ],
 "metadata": {
  "colab": {
   "collapsed_sections": [],
   "name": "hindi_message_exploration",
   "provenance": []
  },
  "kernelspec": {
   "display_name": "Python 3",
   "language": "python",
   "name": "python3"
  },
  "language_info": {
   "codemirror_mode": {
    "name": "ipython",
    "version": 3
   },
   "file_extension": ".py",
   "mimetype": "text/x-python",
   "name": "python",
   "nbconvert_exporter": "python",
   "pygments_lexer": "ipython3",
   "version": "3.8.1"
  }
 },
 "nbformat": 4,
 "nbformat_minor": 4
}
