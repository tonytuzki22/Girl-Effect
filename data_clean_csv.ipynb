{
 "cells": [
  {
   "cell_type": "markdown",
   "metadata": {
    "id": "7pa4TQ1swRXj"
   },
   "source": [
    "# Formatting CSVs\n",
    "\n",
    "This notebook cleans the chatbot CSV provided. More specifically, it separates the larger CSV into two separate CSVs, one for Chhaa Jaa and one for Big Sis V3. "
   ]
  },
  {
   "cell_type": "code",
   "execution_count": null,
   "metadata": {
    "id": "gUcqXXxqM1Uj"
   },
   "outputs": [],
   "source": [
    "# import statements\n",
    "import pandas as pd\n",
    "import numpy as np\n",
    "import os"
   ]
  },
  {
   "cell_type": "code",
   "execution_count": null,
   "metadata": {
    "colab": {
     "base_uri": "https://localhost:8080/"
    },
    "executionInfo": {
     "elapsed": 1914,
     "status": "ok",
     "timestamp": 1606977634687,
     "user": {
      "displayName": "Neha Hudait",
      "photoUrl": "https://lh3.googleusercontent.com/a-/AOh14GiIKoKLUeQlnxxPDix_z2dV5i0n4W4cDcYvJWmzDw=s64",
      "userId": "04178890623871470592"
     },
     "user_tz": 300
    },
    "id": "FVkzduNHNb2w",
    "outputId": "ae670806-09df-4673-808d-25cd77118f19"
   },
   "outputs": [],
   "source": [
    "# setting up google colab\n",
    "from google.colab import drive\n",
    "drive.mount('/content/drive', force_remount=True)\n",
    "%cd \"drive/My Drive/girl_effect\""
   ]
  },
  {
   "cell_type": "code",
   "execution_count": null,
   "metadata": {
    "colab": {
     "base_uri": "https://localhost:8080/",
     "height": 419
    },
    "executionInfo": {
     "elapsed": 368,
     "status": "ok",
     "timestamp": 1606977642424,
     "user": {
      "displayName": "Neha Hudait",
      "photoUrl": "https://lh3.googleusercontent.com/a-/AOh14GiIKoKLUeQlnxxPDix_z2dV5i0n4W4cDcYvJWmzDw=s64",
      "userId": "04178890623871470592"
     },
     "user_tz": 300
    },
    "id": "g3S9JchqO2sZ",
    "outputId": "97dfd668-3ed4-4696-cd13-1257ac5657cc"
   },
   "outputs": [],
   "source": [
    "# creating dataframe\n",
    "df = pd.read_csv(\"chatbots_data_new1.csv\")\n",
    "df"
   ]
  },
  {
   "cell_type": "code",
   "execution_count": null,
   "metadata": {
    "colab": {
     "base_uri": "https://localhost:8080/"
    },
    "executionInfo": {
     "elapsed": 389,
     "status": "ok",
     "timestamp": 1606977737844,
     "user": {
      "displayName": "Neha Hudait",
      "photoUrl": "https://lh3.googleusercontent.com/a-/AOh14GiIKoKLUeQlnxxPDix_z2dV5i0n4W4cDcYvJWmzDw=s64",
      "userId": "04178890623871470592"
     },
     "user_tz": 300
    },
    "id": "GDyb66Y5PoS2",
    "outputId": "817f908e-fea6-46a7-b83a-3f9f165c23e4"
   },
   "outputs": [],
   "source": [
    "# looking at how many data points we have avaliable for the two different chat bots\n",
    "df[\"Org Name\"].value_counts()"
   ]
  },
  {
   "cell_type": "code",
   "execution_count": null,
   "metadata": {
    "colab": {
     "base_uri": "https://localhost:8080/",
     "height": 419
    },
    "executionInfo": {
     "elapsed": 732,
     "status": "ok",
     "timestamp": 1606977790171,
     "user": {
      "displayName": "Neha Hudait",
      "photoUrl": "https://lh3.googleusercontent.com/a-/AOh14GiIKoKLUeQlnxxPDix_z2dV5i0n4W4cDcYvJWmzDw=s64",
      "userId": "04178890623871470592"
     },
     "user_tz": 300
    },
    "id": "YEZgnDmiPout",
    "outputId": "9f66a8c3-8f09-482e-f73c-c1373e2dff33"
   },
   "outputs": [],
   "source": [
    "# creating the csv file for big sis v3\n",
    "english_df = df[df[\"Org Name\"] == \"Big Sis V3\"]\n",
    "english_df"
   ]
  },
  {
   "cell_type": "code",
   "execution_count": null,
   "metadata": {
    "colab": {
     "base_uri": "https://localhost:8080/",
     "height": 419
    },
    "executionInfo": {
     "elapsed": 617,
     "status": "ok",
     "timestamp": 1606977822429,
     "user": {
      "displayName": "Neha Hudait",
      "photoUrl": "https://lh3.googleusercontent.com/a-/AOh14GiIKoKLUeQlnxxPDix_z2dV5i0n4W4cDcYvJWmzDw=s64",
      "userId": "04178890623871470592"
     },
     "user_tz": 300
    },
    "id": "4MkGcYGzVx1D",
    "outputId": "d66300c1-fb29-4a27-800a-9348d1fcc446"
   },
   "outputs": [],
   "source": [
    "# creating the csv file for chhaa jaa\n",
    "hindi_df = df[df[\"Org Name\"] == \"Chhaa Jaa\"]\n",
    "hindi_df"
   ]
  },
  {
   "cell_type": "code",
   "execution_count": null,
   "metadata": {
    "colab": {
     "base_uri": "https://localhost:8080/"
    },
    "executionInfo": {
     "elapsed": 485,
     "status": "ok",
     "timestamp": 1606977976979,
     "user": {
      "displayName": "Neha Hudait",
      "photoUrl": "https://lh3.googleusercontent.com/a-/AOh14GiIKoKLUeQlnxxPDix_z2dV5i0n4W4cDcYvJWmzDw=s64",
      "userId": "04178890623871470592"
     },
     "user_tz": 300
    },
    "id": "d7AhHsxAV5sc",
    "outputId": "8b1273b4-1d94-4baf-881d-6dcfc72cb6b6"
   },
   "outputs": [],
   "source": [
    "english_df.to_csv('chatbots_data_english.csv')\n"
   ]
  },
  {
   "cell_type": "code",
   "execution_count": null,
   "metadata": {
    "id": "RIVWCbURWbEM"
   },
   "outputs": [],
   "source": [
    "hindi_df.to_csv(\"chatbots_data_hindi.csv\")"
   ]
  }
 ],
 "metadata": {
  "colab": {
   "collapsed_sections": [],
   "name": "data_clean_csv.ipynb",
   "provenance": []
  },
  "kernelspec": {
   "display_name": "Python 3",
   "language": "python",
   "name": "python3"
  },
  "language_info": {
   "codemirror_mode": {
    "name": "ipython",
    "version": 3
   },
   "file_extension": ".py",
   "mimetype": "text/x-python",
   "name": "python",
   "nbconvert_exporter": "python",
   "pygments_lexer": "ipython3",
   "version": "3.8.1"
  }
 },
 "nbformat": 4,
 "nbformat_minor": 4
}
